{
 "cells": [
  {
   "cell_type": "code",
   "execution_count": 9,
   "metadata": {
    "collapsed": true
   },
   "outputs": [],
   "source": [
    "import pandas as pd"
   ]
  },
  {
   "cell_type": "code",
   "execution_count": 10,
   "metadata": {
    "collapsed": true
   },
   "outputs": [],
   "source": [
    "props = pd.read_csv('http://www.firstpythonnotebook.org/_static/committees.csv')\n",
    "contribs = pd.read_csv('http://www.firstpythonnotebook.org/_static/contributions.csv')"
   ]
  },
  {
   "cell_type": "code",
   "execution_count": 13,
   "metadata": {},
   "outputs": [
    {
     "data": {
      "text/html": [
       "<div>\n",
       "<style>\n",
       "    .dataframe thead tr:only-child th {\n",
       "        text-align: right;\n",
       "    }\n",
       "\n",
       "    .dataframe thead th {\n",
       "        text-align: left;\n",
       "    }\n",
       "\n",
       "    .dataframe tbody tr th {\n",
       "        vertical-align: top;\n",
       "    }\n",
       "</style>\n",
       "<table border=\"1\" class=\"dataframe\">\n",
       "  <thead>\n",
       "    <tr style=\"text-align: right;\">\n",
       "      <th></th>\n",
       "      <th>ocd_prop_id</th>\n",
       "      <th>calaccess_prop_id</th>\n",
       "      <th>ccdc_prop_id</th>\n",
       "      <th>prop_name</th>\n",
       "      <th>ccdc_committee_id</th>\n",
       "      <th>calaccess_committee_id</th>\n",
       "      <th>committee_name</th>\n",
       "      <th>committee_position</th>\n",
       "    </tr>\n",
       "  </thead>\n",
       "  <tbody>\n",
       "    <tr>\n",
       "      <th>0</th>\n",
       "      <td>ocd-contest/b51dc64d-3562-4913-a190-69f5088c22a6</td>\n",
       "      <td>1376258</td>\n",
       "      <td>70</td>\n",
       "      <td>PROPOSITION 051 - SCHOOL BONDS. FUNDING FOR K-...</td>\n",
       "      <td>382</td>\n",
       "      <td>1374469</td>\n",
       "      <td>YES ON PROPOSITION 51 - CALIFORNIANS FOR QUALI...</td>\n",
       "      <td>SUPPORT</td>\n",
       "    </tr>\n",
       "    <tr>\n",
       "      <th>1</th>\n",
       "      <td>ocd-contest/b51dc64d-3562-4913-a190-69f5088c22a6</td>\n",
       "      <td>1376258</td>\n",
       "      <td>70</td>\n",
       "      <td>PROPOSITION 051 - SCHOOL BONDS. FUNDING FOR K-...</td>\n",
       "      <td>383</td>\n",
       "      <td>1220380</td>\n",
       "      <td>COMMUNITY COLLEGE FACILITY COALITION ISSUES CO...</td>\n",
       "      <td>SUPPORT</td>\n",
       "    </tr>\n",
       "    <tr>\n",
       "      <th>2</th>\n",
       "      <td>ocd-contest/b51dc64d-3562-4913-a190-69f5088c22a6</td>\n",
       "      <td>1376258</td>\n",
       "      <td>70</td>\n",
       "      <td>PROPOSITION 051 - SCHOOL BONDS. FUNDING FOR K-...</td>\n",
       "      <td>384</td>\n",
       "      <td>1282321</td>\n",
       "      <td>TORLAKSON'S INVEST IN CALIFORNIA A BALLOT MEAS...</td>\n",
       "      <td>SUPPORT</td>\n",
       "    </tr>\n",
       "  </tbody>\n",
       "</table>\n",
       "</div>"
      ],
      "text/plain": [
       "                                        ocd_prop_id  calaccess_prop_id  \\\n",
       "0  ocd-contest/b51dc64d-3562-4913-a190-69f5088c22a6            1376258   \n",
       "1  ocd-contest/b51dc64d-3562-4913-a190-69f5088c22a6            1376258   \n",
       "2  ocd-contest/b51dc64d-3562-4913-a190-69f5088c22a6            1376258   \n",
       "\n",
       "   ccdc_prop_id                                          prop_name  \\\n",
       "0            70  PROPOSITION 051 - SCHOOL BONDS. FUNDING FOR K-...   \n",
       "1            70  PROPOSITION 051 - SCHOOL BONDS. FUNDING FOR K-...   \n",
       "2            70  PROPOSITION 051 - SCHOOL BONDS. FUNDING FOR K-...   \n",
       "\n",
       "   ccdc_committee_id  calaccess_committee_id  \\\n",
       "0                382                 1374469   \n",
       "1                383                 1220380   \n",
       "2                384                 1282321   \n",
       "\n",
       "                                      committee_name committee_position  \n",
       "0  YES ON PROPOSITION 51 - CALIFORNIANS FOR QUALI...            SUPPORT  \n",
       "1  COMMUNITY COLLEGE FACILITY COALITION ISSUES CO...            SUPPORT  \n",
       "2  TORLAKSON'S INVEST IN CALIFORNIA A BALLOT MEAS...            SUPPORT  "
      ]
     },
     "execution_count": 13,
     "metadata": {},
     "output_type": "execute_result"
    }
   ],
   "source": [
    "# prints out first five rows of the dataframe\n",
    "# defaults to five, accepts input of how many rows\n",
    "# ex. df.head(7) will print seven rows\n",
    "props.head(3)"
   ]
  },
  {
   "cell_type": "code",
   "execution_count": 12,
   "metadata": {},
   "outputs": [
    {
     "name": "stdout",
     "output_type": "stream",
     "text": [
      "<class 'pandas.core.frame.DataFrame'>\n",
      "RangeIndex: 102 entries, 0 to 101\n",
      "Data columns (total 8 columns):\n",
      "ocd_prop_id               102 non-null object\n",
      "calaccess_prop_id         102 non-null int64\n",
      "ccdc_prop_id              102 non-null int64\n",
      "prop_name                 102 non-null object\n",
      "ccdc_committee_id         102 non-null int64\n",
      "calaccess_committee_id    102 non-null int64\n",
      "committee_name            102 non-null object\n",
      "committee_position        102 non-null object\n",
      "dtypes: int64(4), object(4)\n",
      "memory usage: 6.4+ KB\n"
     ]
    }
   ],
   "source": [
    "# .info() gives a snapshot of the data\n",
    "# rangeindex gives number of rows\n",
    "# prints columns, num of inputs and associated data types\n",
    "props.info()"
   ]
  },
  {
   "cell_type": "code",
   "execution_count": 18,
   "metadata": {},
   "outputs": [],
   "source": [
    "# contribs.head()"
   ]
  },
  {
   "cell_type": "code",
   "execution_count": 19,
   "metadata": {},
   "outputs": [],
   "source": [
    "# contribs.info()"
   ]
  },
  {
   "cell_type": "code",
   "execution_count": 23,
   "metadata": {},
   "outputs": [
    {
     "data": {
      "text/html": [
       "<div>\n",
       "<style>\n",
       "    .dataframe thead tr:only-child th {\n",
       "        text-align: right;\n",
       "    }\n",
       "\n",
       "    .dataframe thead th {\n",
       "        text-align: left;\n",
       "    }\n",
       "\n",
       "    .dataframe tbody tr th {\n",
       "        vertical-align: top;\n",
       "    }\n",
       "</style>\n",
       "<table border=\"1\" class=\"dataframe\">\n",
       "  <thead>\n",
       "    <tr style=\"text-align: right;\">\n",
       "      <th></th>\n",
       "      <th>index</th>\n",
       "      <th>prop_name</th>\n",
       "    </tr>\n",
       "  </thead>\n",
       "  <tbody>\n",
       "    <tr>\n",
       "      <th>0</th>\n",
       "      <td>PROPOSITION 057 - CRIMINAL SENTENCES. JUVENILE...</td>\n",
       "      <td>13</td>\n",
       "    </tr>\n",
       "    <tr>\n",
       "      <th>1</th>\n",
       "      <td>PROPOSITION 056 - CIGARETTE TAX TO FUND HEALTH...</td>\n",
       "      <td>12</td>\n",
       "    </tr>\n",
       "    <tr>\n",
       "      <th>2</th>\n",
       "      <td>PROPOSITION 064- MARIJUANA LEGALIZATION. INITI...</td>\n",
       "      <td>11</td>\n",
       "    </tr>\n",
       "    <tr>\n",
       "      <th>3</th>\n",
       "      <td>PROPOSITION 066- DEATH PENALTY. PROCEDURES. IN...</td>\n",
       "      <td>9</td>\n",
       "    </tr>\n",
       "    <tr>\n",
       "      <th>4</th>\n",
       "      <td>PROPOSITION 055 - TAX EXTENSION TO FUND EDUCAT...</td>\n",
       "      <td>8</td>\n",
       "    </tr>\n",
       "    <tr>\n",
       "      <th>5</th>\n",
       "      <td>PROPOSITION 067- REFERENDUM TO OVERTURN BAN ON...</td>\n",
       "      <td>7</td>\n",
       "    </tr>\n",
       "    <tr>\n",
       "      <th>6</th>\n",
       "      <td>PROPOSITION 062- DEATH PENALTY. INITIATIVE STA...</td>\n",
       "      <td>7</td>\n",
       "    </tr>\n",
       "    <tr>\n",
       "      <th>7</th>\n",
       "      <td>PROPOSITION 059- SB 254 (CHAPTER 20, STATUTES ...</td>\n",
       "      <td>6</td>\n",
       "    </tr>\n",
       "    <tr>\n",
       "      <th>8</th>\n",
       "      <td>PROPOSITION 053 - REVENUE BONDS. STATEWIDE VOT...</td>\n",
       "      <td>4</td>\n",
       "    </tr>\n",
       "    <tr>\n",
       "      <th>9</th>\n",
       "      <td>PROPOSITION 054 - LEGISLATURE. LEGISLATION AND...</td>\n",
       "      <td>4</td>\n",
       "    </tr>\n",
       "    <tr>\n",
       "      <th>10</th>\n",
       "      <td>PROPOSITION 058 - SB 1174 (CHAPTER 753, STATUT...</td>\n",
       "      <td>4</td>\n",
       "    </tr>\n",
       "    <tr>\n",
       "      <th>11</th>\n",
       "      <td>PROPOSITION 063- FIREARMS. AMMUNITION SALES. I...</td>\n",
       "      <td>4</td>\n",
       "    </tr>\n",
       "    <tr>\n",
       "      <th>12</th>\n",
       "      <td>PROPOSITION 051 - SCHOOL BONDS. FUNDING FOR K-...</td>\n",
       "      <td>4</td>\n",
       "    </tr>\n",
       "    <tr>\n",
       "      <th>13</th>\n",
       "      <td>PROPOSITION 052 - STATE FEES ON HOSPITALS. FED...</td>\n",
       "      <td>3</td>\n",
       "    </tr>\n",
       "    <tr>\n",
       "      <th>14</th>\n",
       "      <td>PROPOSITION 061- STATE PRESCRIPTION DRUG PURCH...</td>\n",
       "      <td>3</td>\n",
       "    </tr>\n",
       "    <tr>\n",
       "      <th>15</th>\n",
       "      <td>PROPOSITION 060- ADULT FILMS. CONDOMS. HEALTH ...</td>\n",
       "      <td>2</td>\n",
       "    </tr>\n",
       "    <tr>\n",
       "      <th>16</th>\n",
       "      <td>PROPOSITION 065- CARRY-OUT BAGS. CHARGES. INIT...</td>\n",
       "      <td>1</td>\n",
       "    </tr>\n",
       "  </tbody>\n",
       "</table>\n",
       "</div>"
      ],
      "text/plain": [
       "                                                index  prop_name\n",
       "0   PROPOSITION 057 - CRIMINAL SENTENCES. JUVENILE...         13\n",
       "1   PROPOSITION 056 - CIGARETTE TAX TO FUND HEALTH...         12\n",
       "2   PROPOSITION 064- MARIJUANA LEGALIZATION. INITI...         11\n",
       "3   PROPOSITION 066- DEATH PENALTY. PROCEDURES. IN...          9\n",
       "4   PROPOSITION 055 - TAX EXTENSION TO FUND EDUCAT...          8\n",
       "5   PROPOSITION 067- REFERENDUM TO OVERTURN BAN ON...          7\n",
       "6   PROPOSITION 062- DEATH PENALTY. INITIATIVE STA...          7\n",
       "7   PROPOSITION 059- SB 254 (CHAPTER 20, STATUTES ...          6\n",
       "8   PROPOSITION 053 - REVENUE BONDS. STATEWIDE VOT...          4\n",
       "9   PROPOSITION 054 - LEGISLATURE. LEGISLATION AND...          4\n",
       "10  PROPOSITION 058 - SB 1174 (CHAPTER 753, STATUT...          4\n",
       "11  PROPOSITION 063- FIREARMS. AMMUNITION SALES. I...          4\n",
       "12  PROPOSITION 051 - SCHOOL BONDS. FUNDING FOR K-...          4\n",
       "13  PROPOSITION 052 - STATE FEES ON HOSPITALS. FED...          3\n",
       "14  PROPOSITION 061- STATE PRESCRIPTION DRUG PURCH...          3\n",
       "15  PROPOSITION 060- ADULT FILMS. CONDOMS. HEALTH ...          2\n",
       "16  PROPOSITION 065- CARRY-OUT BAGS. CHARGES. INIT...          1"
      ]
     },
     "execution_count": 23,
     "metadata": {},
     "output_type": "execute_result"
    }
   ],
   "source": [
    "# .value_counts returns a series\n",
    "# gives the value and count of apperances\n",
    "props.prop_name.value_counts().reset_index()"
   ]
  },
  {
   "cell_type": "code",
   "execution_count": null,
   "metadata": {
    "collapsed": true
   },
   "outputs": [],
   "source": []
  }
 ],
 "metadata": {
  "kernelspec": {
   "display_name": "Python 2",
   "language": "python",
   "name": "python2"
  },
  "language_info": {
   "codemirror_mode": {
    "name": "ipython",
    "version": 2
   },
   "file_extension": ".py",
   "mimetype": "text/x-python",
   "name": "python",
   "nbconvert_exporter": "python",
   "pygments_lexer": "ipython2",
   "version": "2.7.12"
  }
 },
 "nbformat": 4,
 "nbformat_minor": 2
}
